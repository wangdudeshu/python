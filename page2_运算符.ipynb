{
 "cells": [
  {
   "cell_type": "markdown",
   "metadata": {},
   "source": [
    "##### 1.算数运算符\n",
    "+、-、\\*、/、%、//、\\**"
   ]
  },
  {
   "cell_type": "code",
   "execution_count": 12,
   "metadata": {},
   "outputs": [
    {
     "name": "stdout",
     "output_type": "stream",
     "text": [
      "a+b的值为: 7\n",
      "a-b的值为: 3\n",
      "a*b的值为: 10\n",
      "a/b的值为: 2.5\n",
      "a**b的值为: 25\n",
      "a//b的值为: 2\n",
      "a%b的值为: 1\n"
     ]
    }
   ],
   "source": [
    "a = 5\n",
    "b = 2\n",
    "#1、加法\n",
    "c = a+b \n",
    "print('a+b的值为:', c)\n",
    "#2、减法\n",
    "c = a-b \n",
    "print('a-b的值为:', c)\n",
    "#3、乘法\n",
    "c = a*b \n",
    "print('a*b的值为:', c)\n",
    "#4、除法\n",
    "c = a/b\n",
    "print('a/b的值为:', c)\n",
    "#5、次幂\n",
    "c = a**b\n",
    "print('a**b的值为:', c)\n",
    "#6、下取整\n",
    "c = a//b\n",
    "print('a//b的值为:', c)\n",
    "#7、取余\n",
    "c = a%b\n",
    "print('a%b的值为:', c)"
   ]
  },
  {
   "cell_type": "markdown",
   "metadata": {},
   "source": [
    "##### 2.比较运算符\n",
    "\\>, <, >=, <=, ==, !="
   ]
  },
  {
   "cell_type": "code",
   "execution_count": 13,
   "metadata": {},
   "outputs": [
    {
     "name": "stdout",
     "output_type": "stream",
     "text": [
      "a>b的返回值: False\n",
      "a<b的返回值: True\n",
      "a>=b的返回值: False\n",
      "a<=b的返回值: True\n",
      "a==b的返回值: False\n",
      "a!=b的返回值: True\n"
     ]
    }
   ],
   "source": [
    "a = 10\n",
    "b = 20\n",
    "#1、a是否大于b\n",
    "print('a>b的返回值:',a > b)\n",
    "#2、a是否小于b\n",
    "print('a<b的返回值:',a < b)\n",
    "#3、a是否大于等于b\n",
    "print('a>=b的返回值:',a >= b)\n",
    "#4、a是否小于等于b\n",
    "print('a<=b的返回值:',a <= b)\n",
    "#5、a是否等于b\n",
    "print('a==b的返回值:',a == b)\n",
    "#6、a是否不等于b\n",
    "print('a!=b的返回值:',a != b)"
   ]
  },
  {
   "cell_type": "markdown",
   "metadata": {},
   "source": [
    "##### 3.赋值运算符\n",
    "=、+=、-=、*=、/=、%=、**=、//="
   ]
  },
  {
   "cell_type": "code",
   "execution_count": 16,
   "metadata": {},
   "outputs": [
    {
     "name": "stdout",
     "output_type": "stream",
     "text": [
      "a的值为: 10\n",
      "a的值更新为: 12\n",
      "a的值更新为: 8\n",
      "a的值更新为: 20\n",
      "a的值更新为: 5.0\n",
      "a的值更新为: 0\n",
      "a的值更新为: 100\n",
      "a的值更新为: 5\n"
     ]
    }
   ],
   "source": [
    "a = 10\n",
    "print('a的值为:', a)\n",
    "\n",
    "a = 10\n",
    "a += 2\n",
    "print('a的值更新为:',a)\n",
    "\n",
    "a = 10\n",
    "a -= 2\n",
    "print('a的值更新为:',a)\n",
    "\n",
    "a = 10\n",
    "a *= 2\n",
    "print('a的值更新为:',a)\n",
    "\n",
    "a = 10\n",
    "a /= 2\n",
    "print('a的值更新为:',a)\n",
    "\n",
    "a = 10\n",
    "a %= 2\n",
    "print('a的值更新为:', a)\n",
    "\n",
    "a = 10\n",
    "a **= 2\n",
    "print('a的值更新为:',a)\n",
    "\n",
    "a = 10\n",
    "a //= 2\n",
    "print('a的值更新为:', a)"
   ]
  },
  {
   "cell_type": "markdown",
   "metadata": {},
   "source": [
    "##### 4.位运算符\n",
    "&、|、^、~、>>、<<"
   ]
  },
  {
   "cell_type": "code",
   "execution_count": 18,
   "metadata": {},
   "outputs": [
    {
     "name": "stdout",
     "output_type": "stream",
     "text": [
      "a与b的与运算为: 0\n",
      "a与b的或运算为: 5\n",
      "a与b的异或运算为: 5\n",
      "a与取反运算为: -2\n",
      "a的左移运算为: 4\n",
      "a的右移运算为: 1\n"
     ]
    }
   ],
   "source": [
    "a = 1\n",
    "b = 4\n",
    "# a： 0000 0001\n",
    "# b： 0000 0100\n",
    "#与运算\n",
    "print('a与b的与运算为:',a & b)\n",
    "#或运算\n",
    "print('a与b的或运算为:',a | b)\n",
    "#异或运算\n",
    "print('a与b的异或运算为:', a ^ b)\n",
    "#取反运算\n",
    "a = 1\n",
    "print('a与取反运算为:', ~a)     #取反操作   一般是等于-x-1\n",
    "#左移\n",
    "a = 2\n",
    "print('a的左移运算为:', a<<1)\n",
    "#右移\n",
    "a = 2\n",
    "print('a的右移运算为:', a>>1)"
   ]
  },
  {
   "cell_type": "markdown",
   "metadata": {},
   "source": [
    "##### 5. 逻辑运算符\n",
    "and、or、not"
   ]
  },
  {
   "cell_type": "code",
   "execution_count": 23,
   "metadata": {},
   "outputs": [
    {
     "name": "stdout",
     "output_type": "stream",
     "text": [
      "变量a和b不都为 true\n",
      "变量a或b都为true\n",
      "变量a的非运算为false\n"
     ]
    }
   ],
   "source": [
    "a = True\n",
    "b = False\n",
    "#and 运算\n",
    "if a and b:\n",
    "    print('变量a和b都为 true')\n",
    "else:\n",
    "    print('变量a和b不都为 true')\n",
    "    \n",
    "#or运算\n",
    "if a or b :\n",
    "    print('变量a或b为true')\n",
    "else:\n",
    "    print('变量a和b都不为true')\n",
    "    \n",
    "#not运算\n",
    "if not a:\n",
    "    print('变量a的非运算为true')\n",
    "else:\n",
    "    print('变量a的非运算为false')"
   ]
  },
  {
   "cell_type": "markdown",
   "metadata": {},
   "source": [
    "#### 6. 成员运算符"
   ]
  },
  {
   "cell_type": "code",
   "execution_count": 29,
   "metadata": {},
   "outputs": [
    {
     "name": "stdout",
     "output_type": "stream",
     "text": [
      "求求你们了 T_T\n",
      "不行点赞也可以的 T_T\n"
     ]
    }
   ],
   "source": [
    "key_str = '关注一下吧!'\n",
    "if '吧' in key_str:\n",
    "    print('求求你们了 T_T')\n",
    "if '不关注' not in key_str:\n",
    "    print('不行点赞也可以的 T_T')"
   ]
  },
  {
   "cell_type": "code",
   "execution_count": 30,
   "metadata": {},
   "outputs": [
    {
     "data": {
      "text/plain": [
       "True"
      ]
     },
     "execution_count": 30,
     "metadata": {},
     "output_type": "execute_result"
    }
   ],
   "source": [
    "a = 10 \n",
    "b = 10 \n",
    "a is b "
   ]
  },
  {
   "cell_type": "code",
   "execution_count": null,
   "metadata": {},
   "outputs": [],
   "source": []
  }
 ],
 "metadata": {
  "kernelspec": {
   "display_name": "Python 3",
   "language": "python",
   "name": "python3"
  },
  "language_info": {
   "codemirror_mode": {
    "name": "ipython",
    "version": 3
   },
   "file_extension": ".py",
   "mimetype": "text/x-python",
   "name": "python",
   "nbconvert_exporter": "python",
   "pygments_lexer": "ipython3",
   "version": "3.7.4"
  }
 },
 "nbformat": 4,
 "nbformat_minor": 2
}
