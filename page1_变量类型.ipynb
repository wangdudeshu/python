{
 "cells": [
  {
   "cell_type": "markdown",
   "metadata": {},
   "source": [
    "# Python变量类型"
   ]
  },
  {
   "cell_type": "markdown",
   "metadata": {},
   "source": [
    "##### 1.变量赋值"
   ]
  },
  {
   "cell_type": "code",
   "execution_count": 1,
   "metadata": {},
   "outputs": [
    {
     "name": "stdout",
     "output_type": "stream",
     "text": [
      "string1: wangdudeshu\n",
      "string2: wangdudeshu\n",
      "True\n"
     ]
    }
   ],
   "source": [
    "#字符串赋值\n",
    "string1 = 'wangdudeshu'\n",
    "string2 = \"wangdudeshu\"\n",
    "\n",
    "print(\"string1: \" + string1)\n",
    "print(\"string2: \" + string2)\n",
    "print(string1 == string2)"
   ]
  },
  {
   "cell_type": "code",
   "execution_count": 2,
   "metadata": {},
   "outputs": [
    {
     "name": "stdout",
     "output_type": "stream",
     "text": [
      "True\n",
      "True\n"
     ]
    }
   ],
   "source": [
    "#数字赋值\n",
    "num1 = 1\n",
    "num2 = 1.0\n",
    "num3 = 1.\n",
    "\n",
    "print(num1 == num2)\n",
    "print(num2 == num3)"
   ]
  },
  {
   "cell_type": "code",
   "execution_count": 3,
   "metadata": {
    "scrolled": true
   },
   "outputs": [
    {
     "name": "stdout",
     "output_type": "stream",
     "text": [
      "方式1\n",
      "a:  1\n",
      "b:  1\n",
      "c:  1\n",
      "\n",
      "\n",
      "方式2\n",
      "d:  1\n",
      "e:  bob\n",
      "f:  (1, 2)\n",
      "g:  (1, 'bob', (1, 2))\n"
     ]
    }
   ],
   "source": [
    "#多变量赋值\n",
    "#方式1\n",
    "a = b = c = 1\n",
    "\n",
    "print(\"方式1\")\n",
    "print(\"a: \", a)\n",
    "print(\"b: \", b)\n",
    "print(\"c: \", c)\n",
    "print(\"\\n\")\n",
    "\n",
    "#方式2\n",
    "d, e, f = 1, \"bob\", (1, 2)\n",
    "g = 1, \"bob\", (1, 2)\n",
    "\n",
    "print(\"方式2\")\n",
    "print(\"d: \", d)\n",
    "print(\"e: \", e)\n",
    "print(\"f: \", f)\n",
    "print(\"g: \", g)"
   ]
  },
  {
   "cell_type": "markdown",
   "metadata": {},
   "source": [
    "##### 2.标准数据类型"
   ]
  },
  {
   "cell_type": "code",
   "execution_count": 4,
   "metadata": {},
   "outputs": [],
   "source": [
    "#1.数字\n",
    "#2.字符串\n",
    "#3.列表\n",
    "#4.元组\n",
    "#5.字典"
   ]
  },
  {
   "cell_type": "markdown",
   "metadata": {},
   "source": [
    "1.数字"
   ]
  },
  {
   "cell_type": "code",
   "execution_count": 5,
   "metadata": {},
   "outputs": [
    {
     "name": "stdout",
     "output_type": "stream",
     "text": [
      "<class 'int'>\n",
      "<class 'float'>\n",
      "<class 'complex'>\n",
      "True\n"
     ]
    }
   ],
   "source": [
    "#int\n",
    "#long   python3的int没有限制大小，可以当做long使用\n",
    "#float\n",
    "#complex\n",
    "\n",
    "#1.int\n",
    "int1 = 6\n",
    "print(type(int1))\n",
    "\n",
    "#2.float\n",
    "float1 = 5.1\n",
    "print(type(float1))\n",
    "\n",
    "#3.complex\n",
    "complex1 = 1+2j\n",
    "complex2 = complex(1, 2)\n",
    "print(type(complex1))\n",
    "print(complex1 == complex2)"
   ]
  },
  {
   "cell_type": "markdown",
   "metadata": {},
   "source": [
    "2.字符串"
   ]
  },
  {
   "cell_type": "code",
   "execution_count": 6,
   "metadata": {},
   "outputs": [
    {
     "name": "stdout",
     "output_type": "stream",
     "text": [
      "True\n",
      "string第一个字母：  w\n",
      "string的前两个字母：  wa\n",
      "aaa\n",
      "ab\n"
     ]
    }
   ],
   "source": [
    "#1.赋值   单引号和双引号不影响\n",
    "string1 = \"wangdudeshu\"\n",
    "string2 = 'wangdudeshu'\n",
    "\n",
    "print(string1 == string2)\n",
    "\n",
    "#2.索引    第一个位置为0,依次增加\n",
    "print(\"string第一个字母： \", string1[0])\n",
    "print(\"string的前两个字母： \", string1[0:2])\n",
    "\n",
    "#3.*操作\n",
    "print(\"a\"*3)\n",
    "\n",
    "#4.+操作\n",
    "print(\"a\" + \"b\")"
   ]
  },
  {
   "cell_type": "markdown",
   "metadata": {},
   "source": [
    "3.列表"
   ]
  },
  {
   "cell_type": "code",
   "execution_count": 7,
   "metadata": {},
   "outputs": [
    {
     "name": "stdout",
     "output_type": "stream",
     "text": [
      "1\n",
      "[1, 2]\n",
      "[1, 2, 3, 1, 2, 3, 1, 2, 3]\n",
      "[1, 2, 3, 1, 2.5, 'bob']\n"
     ]
    }
   ],
   "source": [
    "#1.赋值\n",
    "list1 = [1, 2, 3]\n",
    "list2 = list((1, 2, 3))\n",
    "list3 = [1, 2.5, \"bob\"]\n",
    "\n",
    "#2.索引\n",
    "print(list1[0])\n",
    "print(list1[0:2])\n",
    "\n",
    "#3.*操作\n",
    "print(list1*3)\n",
    "\n",
    "#4.+操作\n",
    "print(list1 + list3)"
   ]
  },
  {
   "cell_type": "markdown",
   "metadata": {},
   "source": [
    "4.元组"
   ]
  },
  {
   "cell_type": "code",
   "execution_count": 20,
   "metadata": {},
   "outputs": [
    {
     "name": "stdout",
     "output_type": "stream",
     "text": [
      "True\n",
      "(1, 2, 3)\n",
      "tuple的元素不能修改\n",
      "['wangdudeshu', 2, 3]\n"
     ]
    }
   ],
   "source": [
    "#1.赋值\n",
    "tuple1 = (1, 2, 3)\n",
    "tuple2 = 1, 2, 3     #不要括号之后可以直接赋值，默认是一个tuple\n",
    "\n",
    "print(type(tuple1) == type(tuple2))\n",
    "\n",
    "tuple3 = tuple([1, 2, 3])\n",
    "\n",
    "print(tuple2)\n",
    "\n",
    "try:\n",
    "    tuple1[0] = 10\n",
    "except:\n",
    "    print(\"tuple的元素不能修改\")\n",
    "\n",
    "#tuple里面的list元素是允许修改的\n",
    "tuple4 = ([1, 2, 3], \"a\", 'b')\n",
    "try:\n",
    "    tuple4[0][0] = 'wangdudeshu'\n",
    "    print(tuple4[0])\n",
    "except:\n",
    "    print(\"这里不会被输出\")"
   ]
  },
  {
   "cell_type": "markdown",
   "metadata": {},
   "source": [
    "5.字典"
   ]
  },
  {
   "cell_type": "code",
   "execution_count": 32,
   "metadata": {},
   "outputs": [
    {
     "name": "stdout",
     "output_type": "stream",
     "text": [
      "{1: 'a', 2: 'b'}\n",
      "a\n",
      "{'a': 1, 'b': 2}\n",
      "1\n",
      "{(1,): 'wang', (2,): 'du', (3,): 'de', (4,): 'shu'}\n",
      "list不能作为字典的key\n",
      "dict_keys([1, 2])\n",
      "dict_values(['a', 'b'])\n",
      "dict_items([(1, 'a'), (2, 'b')])\n",
      "a\n",
      "None\n"
     ]
    }
   ],
   "source": [
    "#数字，字符串，元组，可以作为key来使用\n",
    "dict1 = {1:'a', 2:\"b\"}\n",
    "dict2 = {'a':1, 'b':2}\n",
    "dict3 = {(1,):\"wang\", (2,):\"du\", (3,):\"de\", (4,):\"shu\"}\n",
    "\n",
    "print(dict1)\n",
    "print(dict1[1])\n",
    "print(dict2)\n",
    "print(dict2['a'])\n",
    "print(dict3)\n",
    "\n",
    "try:\n",
    "    dict4 = {[1,2]:\"test\"}\n",
    "except:\n",
    "    print(\"list不能作为字典的key\")\n",
    "    \n",
    "#三个重要的函数\n",
    "#keys()\n",
    "#values()\n",
    "#items()\n",
    "print(dict1.keys())\n",
    "print(dict1.values())\n",
    "print(dict1.items())\n",
    "\n",
    "#索引字典的某个值的时候最好用get函数    存在的时候返回真实值，不存在的时候返回None\n",
    "print(dict1.get(1))\n",
    "print(dict1.get('no'))"
   ]
  },
  {
   "cell_type": "code",
   "execution_count": null,
   "metadata": {},
   "outputs": [],
   "source": []
  }
 ],
 "metadata": {
  "kernelspec": {
   "display_name": "Python 3",
   "language": "python",
   "name": "python3"
  },
  "language_info": {
   "codemirror_mode": {
    "name": "ipython",
    "version": 3
   },
   "file_extension": ".py",
   "mimetype": "text/x-python",
   "name": "python",
   "nbconvert_exporter": "python",
   "pygments_lexer": "ipython3",
   "version": "3.7.4"
  }
 },
 "nbformat": 4,
 "nbformat_minor": 2
}
